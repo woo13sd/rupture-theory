{
  "nbformat": 4,
  "nbformat_minor": 0,
  "metadata": {
    "colab": {
      "provenance": [],
      "authorship_tag": "ABX9TyOEzPeN5MOBaVq4++F5bXgu",
      "include_colab_link": true
    },
    "kernelspec": {
      "name": "python3",
      "display_name": "Python 3"
    },
    "language_info": {
      "name": "python"
    }
  },
  "cells": [
    {
      "cell_type": "markdown",
      "metadata": {
        "id": "view-in-github",
        "colab_type": "text"
      },
      "source": [
        "<a href=\"https://colab.research.google.com/github/woo13sd/rupture-theory/blob/main/notebooks/Rupture.ipynb\" target=\"_parent\"><img src=\"https://colab.research.google.com/assets/colab-badge.svg\" alt=\"Open In Colab\"/></a>"
      ]
    },
    {
      "cell_type": "code",
      "source": [
        "# Cell 1: Install all required packages and create project directories\n",
        "\n",
        "# System packages\n",
        "!apt-get update -qq\n",
        "!apt-get install -y gfortran wget unzip\n",
        "\n",
        "# Python packages\n",
        "!pip install numpy matplotlib scipy h5py cython --quiet\n",
        "\n",
        "# Create only the necessary directories\n",
        "!mkdir -p /content/data\n",
        "!mkdir -p /content/images\n",
        "!mkdir -p /content/camb_utils"
      ],
      "metadata": {
        "id": "v6XDtEiKdman",
        "outputId": "ea63357c-139f-4eaf-b0b3-62983f77ee95",
        "colab": {
          "base_uri": "https://localhost:8080/"
        }
      },
      "execution_count": 1,
      "outputs": [
        {
          "output_type": "stream",
          "name": "stdout",
          "text": [
            "W: Skipping acquire of configured file 'main/source/Sources' as repository 'https://r2u.stat.illinois.edu/ubuntu jammy InRelease' does not seem to provide it (sources.list entry misspelt?)\n",
            "Reading package lists... Done\n",
            "Building dependency tree... Done\n",
            "Reading state information... Done\n",
            "gfortran is already the newest version (4:11.2.0-1ubuntu1).\n",
            "unzip is already the newest version (6.0-26ubuntu3.2).\n",
            "wget is already the newest version (1.21.2-2ubuntu1.1).\n",
            "0 upgraded, 0 newly installed, 0 to remove and 36 not upgraded.\n"
          ]
        }
      ]
    },
    {
      "cell_type": "code",
      "source": [
        "# Cell 2: Clone CAMB from GitHub (main branch)\n",
        "!git clone --depth=1 https://github.com/cmbant/CAMB.git /content/CAMB\n",
        "\n",
        "# List to confirm\n",
        "!ls /content/CAMB"
      ],
      "metadata": {
        "id": "Mtjk9iqdggNp",
        "outputId": "8c2d311e-d449-4fa9-876c-de623f504d67",
        "colab": {
          "base_uri": "https://localhost:8080/"
        }
      },
      "execution_count": 2,
      "outputs": [
        {
          "output_type": "stream",
          "name": "stdout",
          "text": [
            "Cloning into '/content/CAMB'...\n",
            "remote: Enumerating objects: 147, done.\u001b[K\n",
            "remote: Counting objects: 100% (147/147), done.\u001b[K\n",
            "remote: Compressing objects: 100% (141/141), done.\u001b[K\n",
            "remote: Total 147 (delta 8), reused 63 (delta 3), pack-reused 0 (from 0)\u001b[K\n",
            "Receiving objects: 100% (147/147), 13.35 MiB | 7.29 MiB/s, done.\n",
            "Resolving deltas: 100% (8/8), done.\n",
            "camb\t\t fortran   LICENCE.txt\t   README.rst\n",
            "CONTRIBUTING.md  forutils  MANIFEST.in\t   requirements.txt\n",
            "docs\t\t inifiles  pyproject.toml  setup.py\n"
          ]
        }
      ]
    },
    {
      "cell_type": "code",
      "source": [
        "# Cell 3: Copy your uploaded custom .f90 files into the CAMB fortran directory (correct case)\n",
        "import shutil\n",
        "import os\n",
        "\n",
        "source_dir = \"/content/camb_utils\"\n",
        "target_dir = \"/content/CAMB/fortran\"\n",
        "\n",
        "# Updated file names with correct casing\n",
        "f90_files = [\n",
        "    \"InitialPower.f90\",\n",
        "    \"reionization.f90\"\n",
        "]\n",
        "\n",
        "for file in f90_files:\n",
        "    src = os.path.join(source_dir, file)\n",
        "    dst = os.path.join(target_dir, file)\n",
        "    shutil.copyfile(src, dst)\n",
        "\n",
        "print(\"✅ Modified .f90 files copied to CAMB/fortran/\")"
      ],
      "metadata": {
        "id": "XGOWIynjh0up",
        "outputId": "3c86e40b-75e9-4287-ed68-a04b3047fe85",
        "colab": {
          "base_uri": "https://localhost:8080/"
        }
      },
      "execution_count": 4,
      "outputs": [
        {
          "output_type": "stream",
          "name": "stdout",
          "text": [
            "✅ Modified .f90 files copied to CAMB/fortran/\n"
          ]
        }
      ]
    },
    {
      "cell_type": "code",
      "source": [
        "# Cell 4: Copy custom .ini files to CAMB/inifiles/\n",
        "import shutil\n",
        "import os\n",
        "\n",
        "ini_files = [\n",
        "    \"rt_f1e08.ini\",\n",
        "    \"rt_f1e05.ini\",\n",
        "    \"rt_f1e02.ini\"\n",
        "]\n",
        "\n",
        "source_dir = \"/content/camb_utils\"\n",
        "target_dir = \"/content/CAMB/inifiles\"\n",
        "\n",
        "for file in ini_files:\n",
        "    src = os.path.join(source_dir, file)\n",
        "    dst = os.path.join(target_dir, file)\n",
        "    shutil.copyfile(src, dst)\n",
        "\n",
        "print(\"✅ Custom .ini files copied to CAMB/inifiles/\")"
      ],
      "metadata": {
        "id": "uBXXRVoxmIRL",
        "outputId": "8e623063-8c1b-42dc-a269-e508528bfeae",
        "colab": {
          "base_uri": "https://localhost:8080/"
        }
      },
      "execution_count": 5,
      "outputs": [
        {
          "output_type": "stream",
          "name": "stdout",
          "text": [
            "✅ Custom .ini files copied to CAMB/inifiles/\n"
          ]
        }
      ]
    },
    {
      "cell_type": "code",
      "source": [
        "# Cell 5a: Compile constants.f90 manually\n",
        "import subprocess\n",
        "\n",
        "build_dir = \"/content/CAMB/fortran\"\n",
        "filename = \"constants.f90\"\n",
        "\n",
        "# Compile\n",
        "compile_cmd = [\n",
        "    \"gfortran\",\n",
        "    \"-c\",                               # Compile only (no linking)\n",
        "    \"-J\", build_dir,                    # Output .mod files here\n",
        "    \"-o\", f\"{build_dir}/constants.o\",  # Output .o file\n",
        "    f\"{build_dir}/{filename}\",         # Input source file\n",
        "]\n",
        "\n",
        "# Run command\n",
        "result = subprocess.run(compile_cmd, stdout=subprocess.PIPE, stderr=subprocess.PIPE, text=True)\n",
        "\n",
        "# Show result\n",
        "if result.returncode == 0:\n",
        "    print(f\"✅ {filename} compiled successfully.\")\n",
        "else:\n",
        "    print(f\"❌ Error compiling {filename}:\\n{result.stderr}\")"
      ],
      "metadata": {
        "id": "G4CIhQ6Jm2UQ",
        "outputId": "3d5a7765-0e4b-46cd-a896-2b3c67135528",
        "colab": {
          "base_uri": "https://localhost:8080/"
        }
      },
      "execution_count": 6,
      "outputs": [
        {
          "output_type": "stream",
          "name": "stdout",
          "text": [
            "✅ constants.f90 compiled successfully.\n"
          ]
        }
      ]
    },
    {
      "cell_type": "code",
      "source": [
        "# Cell 6: Compile MiscUtils.f90 with proper lowercase handling for the .mod file\n",
        "\n",
        "import subprocess\n",
        "import shutil\n",
        "import os\n",
        "\n",
        "miscutils_src = \"/content/forutils/MiscUtils.f90\"\n",
        "mod_file = \"miscutils.mod\"\n",
        "obj_file = \"MiscUtils.o\"\n",
        "\n",
        "print(\"🔧 Cell 6: Compiling MiscUtils.f90...\")\n",
        "\n",
        "try:\n",
        "    subprocess.run([\"gfortran\", \"-c\", miscutils_src], check=True)\n",
        "\n",
        "    if os.path.exists(obj_file) and os.path.exists(mod_file):\n",
        "        shutil.move(obj_file, \"/content/CAMB/fortran/\")\n",
        "        shutil.move(mod_file, \"/content/CAMB/fortran/\")\n",
        "        print(\"✅ Cell 6: Compilation successful. Files moved.\")\n",
        "    else:\n",
        "        print(\"❌ Cell 6: Compilation did not produce expected output files.\")\n",
        "except subprocess.CalledProcessError as e:\n",
        "    print(\"❌ Cell 6: Compilation error.\")\n",
        "    print(e)"
      ],
      "metadata": {
        "id": "wjrjCWOJrZIp",
        "outputId": "2eaa8b72-5782-44d5-c7b1-b9754da2c663",
        "colab": {
          "base_uri": "https://localhost:8080/"
        }
      },
      "execution_count": 7,
      "outputs": [
        {
          "output_type": "stream",
          "name": "stdout",
          "text": [
            "🔧 Cell 6: Compiling MiscUtils.f90...\n",
            "❌ Cell 6: Compilation error.\n",
            "Command '['gfortran', '-c', '/content/forutils/MiscUtils.f90']' returned non-zero exit status 1.\n"
          ]
        }
      ]
    },
    {
      "cell_type": "code",
      "source": [
        "# Cell 7: Download forutils and verify FileUtils.f90 is available\n",
        "\n",
        "import os\n",
        "import subprocess\n",
        "\n",
        "print(\"🌐 Cloning CAMB forutils repo...\")\n",
        "\n",
        "# Clean up if already exists (optional, comment out if not needed)\n",
        "if os.path.exists(\"/content/CAMB/forutils\"):\n",
        "    subprocess.run([\"rm\", \"-rf\", \"/content/CAMB/forutils\"])\n",
        "\n",
        "# Clone the repository\n",
        "subprocess.run([\"git\", \"clone\", \"https://github.com/cmbant/forutils.git\", \"/content/CAMB/forutils\"])\n",
        "\n",
        "# Check required file\n",
        "required = \"FileUtils.f90\"\n",
        "file_path = f\"/content/CAMB/forutils/{required}\"\n",
        "\n",
        "if os.path.exists(file_path):\n",
        "    print(f\"✅ {required} found at {file_path}\")\n",
        "else:\n",
        "    raise FileNotFoundError(f\"❌ {required} not found in /content/CAMB/forutils/\")"
      ],
      "metadata": {
        "id": "emACXxx5p2na",
        "outputId": "2a495892-c797-4001-f278-8541b63e5a12",
        "colab": {
          "base_uri": "https://localhost:8080/"
        }
      },
      "execution_count": 8,
      "outputs": [
        {
          "output_type": "stream",
          "name": "stdout",
          "text": [
            "🌐 Cloning CAMB forutils repo...\n",
            "✅ FileUtils.f90 found at /content/CAMB/forutils/FileUtils.f90\n"
          ]
        }
      ]
    },
    {
      "cell_type": "code",
      "source": [
        "# 🛠 Cell 8: Patch config.f90 to remove MpiUtils reference\n",
        "\n",
        "config_path = \"/content/CAMB/fortran/config.f90\"\n",
        "\n",
        "with open(config_path, \"r\") as f:\n",
        "    lines = f.readlines()\n",
        "\n",
        "patched_lines = []\n",
        "for line in lines:\n",
        "    if \"use MpiUtils\" in line:\n",
        "        patched_lines.append(\"! use MpiUtils  ! 🔧 MPI disabled in Colab\\n\")\n",
        "    else:\n",
        "        patched_lines.append(line)\n",
        "\n",
        "with open(config_path, \"w\") as f:\n",
        "    f.writelines(patched_lines)\n",
        "\n",
        "print(\"✅ Cell 8: Patched config.f90 to bypass MPI dependency.\")"
      ],
      "metadata": {
        "id": "HwDGPz6hd1Bi",
        "outputId": "ef53d0c0-9989-49f6-9fb1-804219bdb638",
        "colab": {
          "base_uri": "https://localhost:8080/"
        }
      },
      "execution_count": 17,
      "outputs": [
        {
          "output_type": "stream",
          "name": "stdout",
          "text": [
            "✅ Cell 8: Patched config.f90 to bypass MPI dependency.\n"
          ]
        }
      ]
    },
    {
      "cell_type": "code",
      "source": [],
      "metadata": {
        "id": "LpnpbNhSgHfj"
      },
      "execution_count": null,
      "outputs": []
    }
  ]
}