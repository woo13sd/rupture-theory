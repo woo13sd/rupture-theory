{
  "nbformat": 4,
  "nbformat_minor": 0,
  "metadata": {
    "colab": {
      "provenance": [],
      "authorship_tag": "ABX9TyNT+Ew49Bb5tQfVUah4dcML",
      "include_colab_link": true
    },
    "kernelspec": {
      "name": "python3",
      "display_name": "Python 3"
    },
    "language_info": {
      "name": "python"
    }
  },
  "cells": [
    {
      "cell_type": "markdown",
      "metadata": {
        "id": "view-in-github",
        "colab_type": "text"
      },
      "source": [
        "<a href=\"https://colab.research.google.com/github/woo13sd/rupture-theory/blob/main/notebooks/Rupture.ipynb\" target=\"_parent\"><img src=\"https://colab.research.google.com/assets/colab-badge.svg\" alt=\"Open In Colab\"/></a>"
      ]
    },
    {
      "cell_type": "code",
      "source": [
        "# Cell 1: Install all required packages and create project directories\n",
        "\n",
        "# System packages\n",
        "!apt-get update -qq\n",
        "!apt-get install -y gfortran wget unzip\n",
        "\n",
        "# Python packages\n",
        "!pip install numpy matplotlib scipy h5py cython --quiet\n",
        "\n",
        "# Create only the necessary directories\n",
        "!mkdir -p /content/data\n",
        "!mkdir -p /content/images\n",
        "!mkdir -p /content/camb_utils"
      ],
      "metadata": {
        "colab": {
          "base_uri": "https://localhost:8080/"
        },
        "id": "v6XDtEiKdman",
        "outputId": "ea63357c-139f-4eaf-b0b3-62983f77ee95"
      },
      "execution_count": 1,
      "outputs": [
        {
          "output_type": "stream",
          "name": "stdout",
          "text": [
            "W: Skipping acquire of configured file 'main/source/Sources' as repository 'https://r2u.stat.illinois.edu/ubuntu jammy InRelease' does not seem to provide it (sources.list entry misspelt?)\n",
            "Reading package lists... Done\n",
            "Building dependency tree... Done\n",
            "Reading state information... Done\n",
            "gfortran is already the newest version (4:11.2.0-1ubuntu1).\n",
            "unzip is already the newest version (6.0-26ubuntu3.2).\n",
            "wget is already the newest version (1.21.2-2ubuntu1.1).\n",
            "0 upgraded, 0 newly installed, 0 to remove and 36 not upgraded.\n"
          ]
        }
      ]
    },
    {
      "cell_type": "code",
      "source": [
        "# Cell 2: Clone CAMB from GitHub (main branch)\n",
        "!git clone --depth=1 https://github.com/cmbant/CAMB.git /content/CAMB\n",
        "\n",
        "# List to confirm\n",
        "!ls /content/CAMB"
      ],
      "metadata": {
        "colab": {
          "base_uri": "https://localhost:8080/"
        },
        "id": "Mtjk9iqdggNp",
        "outputId": "8c2d311e-d449-4fa9-876c-de623f504d67"
      },
      "execution_count": 2,
      "outputs": [
        {
          "output_type": "stream",
          "name": "stdout",
          "text": [
            "Cloning into '/content/CAMB'...\n",
            "remote: Enumerating objects: 147, done.\u001b[K\n",
            "remote: Counting objects: 100% (147/147), done.\u001b[K\n",
            "remote: Compressing objects: 100% (141/141), done.\u001b[K\n",
            "remote: Total 147 (delta 8), reused 63 (delta 3), pack-reused 0 (from 0)\u001b[K\n",
            "Receiving objects: 100% (147/147), 13.35 MiB | 7.29 MiB/s, done.\n",
            "Resolving deltas: 100% (8/8), done.\n",
            "camb\t\t fortran   LICENCE.txt\t   README.rst\n",
            "CONTRIBUTING.md  forutils  MANIFEST.in\t   requirements.txt\n",
            "docs\t\t inifiles  pyproject.toml  setup.py\n"
          ]
        }
      ]
    },
    {
      "cell_type": "code",
      "source": [
        "# Cell 3: Copy your uploaded custom .f90 files into the CAMB fortran directory (correct case)\n",
        "import shutil\n",
        "import os\n",
        "\n",
        "source_dir = \"/content/camb_utils\"\n",
        "target_dir = \"/content/CAMB/fortran\"\n",
        "\n",
        "# Updated file names with correct casing\n",
        "f90_files = [\n",
        "    \"InitialPower.f90\",\n",
        "    \"reionization.f90\"\n",
        "]\n",
        "\n",
        "for file in f90_files:\n",
        "    src = os.path.join(source_dir, file)\n",
        "    dst = os.path.join(target_dir, file)\n",
        "    shutil.copyfile(src, dst)\n",
        "\n",
        "print(\"✅ Modified .f90 files copied to CAMB/fortran/\")"
      ],
      "metadata": {
        "colab": {
          "base_uri": "https://localhost:8080/"
        },
        "id": "XGOWIynjh0up",
        "outputId": "3c86e40b-75e9-4287-ed68-a04b3047fe85"
      },
      "execution_count": 4,
      "outputs": [
        {
          "output_type": "stream",
          "name": "stdout",
          "text": [
            "✅ Modified .f90 files copied to CAMB/fortran/\n"
          ]
        }
      ]
    },
    {
      "cell_type": "code",
      "source": [
        "# Cell 4: Copy custom .ini files to CAMB/inifiles/\n",
        "import shutil\n",
        "import os\n",
        "\n",
        "ini_files = [\n",
        "    \"rt_f1e08.ini\",\n",
        "    \"rt_f1e05.ini\",\n",
        "    \"rt_f1e02.ini\"\n",
        "]\n",
        "\n",
        "source_dir = \"/content/camb_utils\"\n",
        "target_dir = \"/content/CAMB/inifiles\"\n",
        "\n",
        "for file in ini_files:\n",
        "    src = os.path.join(source_dir, file)\n",
        "    dst = os.path.join(target_dir, file)\n",
        "    shutil.copyfile(src, dst)\n",
        "\n",
        "print(\"✅ Custom .ini files copied to CAMB/inifiles/\")"
      ],
      "metadata": {
        "colab": {
          "base_uri": "https://localhost:8080/"
        },
        "id": "uBXXRVoxmIRL",
        "outputId": "8e623063-8c1b-42dc-a269-e508528bfeae"
      },
      "execution_count": 5,
      "outputs": [
        {
          "output_type": "stream",
          "name": "stdout",
          "text": [
            "✅ Custom .ini files copied to CAMB/inifiles/\n"
          ]
        }
      ]
    },
    {
      "cell_type": "code",
      "source": [
        "# Cell 5a: Compile constants.f90 manually\n",
        "import subprocess\n",
        "\n",
        "build_dir = \"/content/CAMB/fortran\"\n",
        "filename = \"constants.f90\"\n",
        "\n",
        "# Compile\n",
        "compile_cmd = [\n",
        "    \"gfortran\",\n",
        "    \"-c\",                               # Compile only (no linking)\n",
        "    \"-J\", build_dir,                    # Output .mod files here\n",
        "    \"-o\", f\"{build_dir}/constants.o\",  # Output .o file\n",
        "    f\"{build_dir}/{filename}\",         # Input source file\n",
        "]\n",
        "\n",
        "# Run command\n",
        "result = subprocess.run(compile_cmd, stdout=subprocess.PIPE, stderr=subprocess.PIPE, text=True)\n",
        "\n",
        "# Show result\n",
        "if result.returncode == 0:\n",
        "    print(f\"✅ {filename} compiled successfully.\")\n",
        "else:\n",
        "    print(f\"❌ Error compiling {filename}:\\n{result.stderr}\")"
      ],
      "metadata": {
        "colab": {
          "base_uri": "https://localhost:8080/"
        },
        "id": "G4CIhQ6Jm2UQ",
        "outputId": "3d5a7765-0e4b-46cd-a896-2b3c67135528"
      },
      "execution_count": 6,
      "outputs": [
        {
          "output_type": "stream",
          "name": "stdout",
          "text": [
            "✅ constants.f90 compiled successfully.\n"
          ]
        }
      ]
    },
    {
      "cell_type": "code",
      "source": [
        "# Cell 6: Compile MiscUtils.f90 with proper lowercase handling for the .mod file\n",
        "\n",
        "import subprocess\n",
        "import shutil\n",
        "import os\n",
        "\n",
        "miscutils_src = \"/content/forutils/MiscUtils.f90\"\n",
        "mod_file = \"miscutils.mod\"\n",
        "obj_file = \"MiscUtils.o\"\n",
        "\n",
        "print(\"🔧 Cell 6: Compiling MiscUtils.f90...\")\n",
        "\n",
        "try:\n",
        "    subprocess.run([\"gfortran\", \"-c\", miscutils_src], check=True)\n",
        "\n",
        "    if os.path.exists(obj_file) and os.path.exists(mod_file):\n",
        "        shutil.move(obj_file, \"/content/CAMB/fortran/\")\n",
        "        shutil.move(mod_file, \"/content/CAMB/fortran/\")\n",
        "        print(\"✅ Cell 6: Compilation successful. Files moved.\")\n",
        "    else:\n",
        "        print(\"❌ Cell 6: Compilation did not produce expected output files.\")\n",
        "except subprocess.CalledProcessError as e:\n",
        "    print(\"❌ Cell 6: Compilation error.\")\n",
        "    print(e)"
      ],
      "metadata": {
        "colab": {
          "base_uri": "https://localhost:8080/"
        },
        "id": "wjrjCWOJrZIp",
        "outputId": "2eaa8b72-5782-44d5-c7b1-b9754da2c663"
      },
      "execution_count": 7,
      "outputs": [
        {
          "output_type": "stream",
          "name": "stdout",
          "text": [
            "🔧 Cell 6: Compiling MiscUtils.f90...\n",
            "❌ Cell 6: Compilation error.\n",
            "Command '['gfortran', '-c', '/content/forutils/MiscUtils.f90']' returned non-zero exit status 1.\n"
          ]
        }
      ]
    },
    {
      "cell_type": "code",
      "source": [
        "# Cell 7: Download forutils and verify FileUtils.f90 is available\n",
        "\n",
        "import os\n",
        "import subprocess\n",
        "\n",
        "print(\"🌐 Cloning CAMB forutils repo...\")\n",
        "\n",
        "# Clean up if already exists (optional, comment out if not needed)\n",
        "if os.path.exists(\"/content/CAMB/forutils\"):\n",
        "    subprocess.run([\"rm\", \"-rf\", \"/content/CAMB/forutils\"])\n",
        "\n",
        "# Clone the repository\n",
        "subprocess.run([\"git\", \"clone\", \"https://github.com/cmbant/forutils.git\", \"/content/CAMB/forutils\"])\n",
        "\n",
        "# Check required file\n",
        "required = \"FileUtils.f90\"\n",
        "file_path = f\"/content/CAMB/forutils/{required}\"\n",
        "\n",
        "if os.path.exists(file_path):\n",
        "    print(f\"✅ {required} found at {file_path}\")\n",
        "else:\n",
        "    raise FileNotFoundError(f\"❌ {required} not found in /content/CAMB/forutils/\")"
      ],
      "metadata": {
        "colab": {
          "base_uri": "https://localhost:8080/"
        },
        "id": "emACXxx5p2na",
        "outputId": "2a495892-c797-4001-f278-8541b63e5a12"
      },
      "execution_count": 8,
      "outputs": [
        {
          "output_type": "stream",
          "name": "stdout",
          "text": [
            "🌐 Cloning CAMB forutils repo...\n",
            "✅ FileUtils.f90 found at /content/CAMB/forutils/FileUtils.f90\n"
          ]
        }
      ]
    },
    {
      "cell_type": "code",
      "source": [
        "# 🛠 Cell 8: Patch config.f90 to remove MpiUtils reference\n",
        "\n",
        "config_path = \"/content/CAMB/fortran/config.f90\"\n",
        "\n",
        "with open(config_path, \"r\") as f:\n",
        "    lines = f.readlines()\n",
        "\n",
        "patched_lines = []\n",
        "for line in lines:\n",
        "    if \"use MpiUtils\" in line:\n",
        "        patched_lines.append(\"! use MpiUtils  ! 🔧 MPI disabled in Colab\\n\")\n",
        "    else:\n",
        "        patched_lines.append(line)\n",
        "\n",
        "with open(config_path, \"w\") as f:\n",
        "    f.writelines(patched_lines)\n",
        "\n",
        "print(\"✅ Cell 8: Patched config.f90 to bypass MPI dependency.\")"
      ],
      "metadata": {
        "colab": {
          "base_uri": "https://localhost:8080/"
        },
        "id": "HwDGPz6hd1Bi",
        "outputId": "ef53d0c0-9989-49f6-9fb1-804219bdb638"
      },
      "execution_count": 17,
      "outputs": [
        {
          "output_type": "stream",
          "name": "stdout",
          "text": [
            "✅ Cell 8: Patched config.f90 to bypass MPI dependency.\n"
          ]
        }
      ]
    },
    {
      "cell_type": "code",
      "source": [
        "# 🛠️ Cell 9: Patch FileUtils.f90 to disable MPI dependency\n",
        "\n",
        "fileutils_path = \"/content/CAMB/forutils/FileUtils.f90\"\n",
        "\n",
        "with open(fileutils_path, \"r\") as f:\n",
        "    lines = f.readlines()\n",
        "\n",
        "patched_lines = []\n",
        "for line in lines:\n",
        "    if \"use MpiUtils\" in line:\n",
        "        patched_lines.append(\"! use MpiUtils  ! 🔧 MPI disabled for Colab\\n\")\n",
        "    else:\n",
        "        patched_lines.append(line)\n",
        "\n",
        "with open(fileutils_path, \"w\") as f:\n",
        "    f.writelines(patched_lines)\n",
        "\n",
        "print(\"✅ Cell 9: Patched FileUtils.f90 to bypass MPI dependency.\")"
      ],
      "metadata": {
        "id": "4Q_lMaBJiUZ8",
        "outputId": "492845bf-5858-4a48-965e-3317d8ff8135",
        "colab": {
          "base_uri": "https://localhost:8080/"
        }
      },
      "execution_count": 22,
      "outputs": [
        {
          "output_type": "stream",
          "name": "stdout",
          "text": [
            "✅ Cell 9: Patched FileUtils.f90 to bypass MPI dependency.\n"
          ]
        }
      ]
    },
    {
      "cell_type": "code",
      "source": [
        "# 🔧 Cell 11: Recompile MiscUtils.f90 with corrected path\n",
        "\n",
        "import subprocess\n",
        "import shutil\n",
        "import os\n",
        "\n",
        "miscutils_src = \"/content/CAMB/forutils/MiscUtils.f90\"\n",
        "mod_file = \"miscutils.mod\"\n",
        "obj_file = \"MiscUtils.o\"\n",
        "\n",
        "print(\"🔧 Cell 11: Compiling MiscUtils.f90...\")\n",
        "\n",
        "try:\n",
        "    subprocess.run([\"gfortran\", \"-c\", miscutils_src], check=True)\n",
        "\n",
        "    if os.path.exists(obj_file) and os.path.exists(mod_file):\n",
        "        shutil.move(obj_file, \"/content/CAMB/fortran/\")\n",
        "        shutil.move(mod_file, \"/content/CAMB/fortran/\")\n",
        "        print(\"✅ Cell 11: Compilation successful. Files moved.\")\n",
        "    else:\n",
        "        print(\"❌ Cell 11: Compilation did not produce expected output files.\")\n",
        "except subprocess.CalledProcessError as e:\n",
        "    print(\"❌ Cell 11: Compilation error.\")\n",
        "    print(e)"
      ],
      "metadata": {
        "id": "B4cTozsAAy9Y",
        "outputId": "cf11221a-24e0-40c6-81f8-addafe0c5a85",
        "colab": {
          "base_uri": "https://localhost:8080/"
        }
      },
      "execution_count": 29,
      "outputs": [
        {
          "output_type": "stream",
          "name": "stdout",
          "text": [
            "🔧 Cell 11: Compiling MiscUtils.f90...\n",
            "✅ Cell 11: Compilation successful. Files moved.\n"
          ]
        }
      ]
    },
    {
      "cell_type": "code",
      "source": [
        "# 🛠 Cell 14: Patch StringUtils.f90 to bypass MPI dependency\n",
        "\n",
        "string_utils_path = \"/content/CAMB/forutils/StringUtils.f90\"\n",
        "\n",
        "with open(string_utils_path, \"r\") as f:\n",
        "    lines = f.readlines()\n",
        "\n",
        "patched_lines = []\n",
        "for line in lines:\n",
        "    if \"use MpiUtils\" in line:\n",
        "        patched_lines.append(\"! use MpiUtils  ! 🔧 MPI disabled in Colab\\n\")\n",
        "    else:\n",
        "        patched_lines.append(line)\n",
        "\n",
        "with open(string_utils_path, \"w\") as f:\n",
        "    f.writelines(patched_lines)\n",
        "\n",
        "print(\"✅ Cell 14: Patched StringUtils.f90 to bypass MPI dependency.\")"
      ],
      "metadata": {
        "id": "5WlrHgpmDO-n",
        "outputId": "848f4387-14db-466d-c76b-557bcbe1fd44",
        "colab": {
          "base_uri": "https://localhost:8080/"
        }
      },
      "execution_count": 34,
      "outputs": [
        {
          "output_type": "stream",
          "name": "stdout",
          "text": [
            "✅ Cell 14: Patched StringUtils.f90 to bypass MPI dependency.\n"
          ]
        }
      ]
    },
    {
      "cell_type": "code",
      "source": [
        "# 🔧 Cell 15: Compiling StringUtils.f90 after MPI patch\n",
        "\n",
        "import subprocess\n",
        "\n",
        "src = \"/content/CAMB/forutils/StringUtils.f90\"\n",
        "\n",
        "print(\"🔧 Cell 15: Compiling StringUtils.f90...\")\n",
        "\n",
        "try:\n",
        "    subprocess.run([\"gfortran\", \"-I\", \"/content/CAMB/fortran\", \"-c\", src], check=True)\n",
        "    print(\"✅ Cell 15: Compilation successful.\")\n",
        "except subprocess.CalledProcessError as e:\n",
        "    print(\"❌ Cell 15: Compilation failed.\")\n",
        "    print(e)"
      ],
      "metadata": {
        "id": "DNT5kOhTDVfy",
        "outputId": "a82bbb47-3cd6-4024-a77d-9252dd059a72",
        "colab": {
          "base_uri": "https://localhost:8080/"
        }
      },
      "execution_count": 35,
      "outputs": [
        {
          "output_type": "stream",
          "name": "stdout",
          "text": [
            "🔧 Cell 15: Compiling StringUtils.f90...\n",
            "✅ Cell 15: Compilation successful.\n"
          ]
        }
      ]
    },
    {
      "cell_type": "code",
      "source": [
        "# 🔧 Cell 16: Recompiling FileUtils.f90 after StringUtils resolved\n",
        "\n",
        "import subprocess\n",
        "\n",
        "src = \"/content/CAMB/forutils/FileUtils.f90\"\n",
        "\n",
        "print(\"🔧 Cell 16: Compiling FileUtils.f90...\")\n",
        "\n",
        "try:\n",
        "    subprocess.run([\"gfortran\", \"-I\", \"/content/CAMB/fortran\", \"-c\", src], check=True)\n",
        "    print(\"✅ Cell 16: Compilation successful.\")\n",
        "except subprocess.CalledProcessError as e:\n",
        "    print(\"❌ Cell 16: Compilation failed.\")\n",
        "    print(e)"
      ],
      "metadata": {
        "id": "Y3sush_3DgGF",
        "outputId": "ad8ad0e2-7048-43ad-b3a2-3f01641b5883",
        "colab": {
          "base_uri": "https://localhost:8080/"
        }
      },
      "execution_count": 36,
      "outputs": [
        {
          "output_type": "stream",
          "name": "stdout",
          "text": [
            "🔧 Cell 16: Compiling FileUtils.f90...\n",
            "✅ Cell 16: Compilation successful.\n"
          ]
        }
      ]
    },
    {
      "cell_type": "code",
      "source": [
        "# 🔧 Cell 17: Recompile config.f90 now that dependencies are resolved\n",
        "\n",
        "import subprocess\n",
        "\n",
        "src = \"/content/CAMB/fortran/config.f90\"\n",
        "\n",
        "print(\"🔧 Cell 17: Compiling config.f90...\")\n",
        "\n",
        "try:\n",
        "    subprocess.run([\"gfortran\", \"-I\", \"/content/CAMB/fortran\", \"-c\", src], check=True)\n",
        "    print(\"✅ Cell 17: Compilation successful.\")\n",
        "except subprocess.CalledProcessError as e:\n",
        "    print(\"❌ Cell 17: Compilation failed.\")\n",
        "    print(e)"
      ],
      "metadata": {
        "id": "yklDwkREDk7a",
        "outputId": "a36ab7f9-d9a0-4f86-b654-aae4c45d290d",
        "colab": {
          "base_uri": "https://localhost:8080/"
        }
      },
      "execution_count": 37,
      "outputs": [
        {
          "output_type": "stream",
          "name": "stdout",
          "text": [
            "🔧 Cell 17: Compiling config.f90...\n",
            "✅ Cell 17: Compilation successful.\n"
          ]
        }
      ]
    },
    {
      "cell_type": "code",
      "source": [
        "# 🔧 Cell 21: Patch RangeUtils.f90 to bypass MPI dependency\n",
        "\n",
        "rangeutils_path = \"/content/CAMB/forutils/RangeUtils.f90\"\n",
        "\n",
        "with open(rangeutils_path, \"r\") as f:\n",
        "    lines = f.readlines()\n",
        "\n",
        "patched_lines = []\n",
        "for line in lines:\n",
        "    if \"use MpiUtils\" in line:\n",
        "        patched_lines.append(\"! use MpiUtils  ! 🔧 MPI disabled in Colab\\n\")\n",
        "    else:\n",
        "        patched_lines.append(line)\n",
        "\n",
        "with open(rangeutils_path, \"w\") as f:\n",
        "    f.writelines(patched_lines)\n",
        "\n",
        "print(\"✅ Cell 21: Patched RangeUtils.f90 to bypass MPI dependency.\")"
      ],
      "metadata": {
        "id": "n8ceiRXYEUuT",
        "outputId": "b77ffc2f-c0f1-4861-e944-f709ae696ccd",
        "colab": {
          "base_uri": "https://localhost:8080/"
        }
      },
      "execution_count": 44,
      "outputs": [
        {
          "output_type": "stream",
          "name": "stdout",
          "text": [
            "✅ Cell 21: Patched RangeUtils.f90 to bypass MPI dependency.\n"
          ]
        }
      ]
    },
    {
      "cell_type": "code",
      "source": [
        "# 🛠 Cell 24: Patch ArrayUtils.f90 to bypass MPI\n",
        "\n",
        "arrayutils_path = \"/content/CAMB/forutils/ArrayUtils.f90\"\n",
        "\n",
        "with open(arrayutils_path, \"r\") as f:\n",
        "    lines = f.readlines()\n",
        "\n",
        "patched_lines = []\n",
        "for line in lines:\n",
        "    if \"use MpiUtils\" in line:\n",
        "        patched_lines.append(\"! use MpiUtils  ! 🔧 MPI disabled in Colab\\n\")\n",
        "    else:\n",
        "        patched_lines.append(line)\n",
        "\n",
        "with open(arrayutils_path, \"w\") as f:\n",
        "    f.writelines(patched_lines)\n",
        "\n",
        "print(\"✅ Cell 24: Patched ArrayUtils.f90 to bypass MPI dependency.\")"
      ],
      "metadata": {
        "id": "hRIq96CaEuXT",
        "outputId": "be7a6777-706a-46eb-eac3-95c949d904f7",
        "colab": {
          "base_uri": "https://localhost:8080/"
        }
      },
      "execution_count": 48,
      "outputs": [
        {
          "output_type": "stream",
          "name": "stdout",
          "text": [
            "✅ Cell 24: Patched ArrayUtils.f90 to bypass MPI dependency.\n"
          ]
        }
      ]
    },
    {
      "cell_type": "code",
      "source": [
        "# 🔧 Cell 25: Compile ArrayUtils.f90\n",
        "\n",
        "import subprocess\n",
        "\n",
        "src_path = \"/content/CAMB/forutils/ArrayUtils.f90\"\n",
        "\n",
        "try:\n",
        "    subprocess.run(\n",
        "        [\"gfortran\", \"-I\", \"/content/CAMB/fortran\", \"-c\", src_path],\n",
        "        check=True\n",
        "    )\n",
        "    print(\"✅ Cell 25: Successfully compiled ArrayUtils.f90\")\n",
        "except subprocess.CalledProcessError as e:\n",
        "    print(\"❌ Cell 25: Compilation failed.\")\n",
        "    print(e)"
      ],
      "metadata": {
        "id": "Js-29LJ4Ezfa",
        "outputId": "ae9cc1df-a345-4e02-e740-f9bd2bf2b17e",
        "colab": {
          "base_uri": "https://localhost:8080/"
        }
      },
      "execution_count": 49,
      "outputs": [
        {
          "output_type": "stream",
          "name": "stdout",
          "text": [
            "✅ Cell 25: Successfully compiled ArrayUtils.f90\n"
          ]
        }
      ]
    },
    {
      "cell_type": "code",
      "source": [
        "# 🔧 Cell 27: Patch RangeUtils.f90 to remove preprocessor blocks\n",
        "\n",
        "range_utils_path = \"/content/CAMB/forutils/RangeUtils.f90\"\n",
        "\n",
        "with open(range_utils_path, \"r\") as f:\n",
        "    lines = f.readlines()\n",
        "\n",
        "patched_lines = []\n",
        "skip_block = False\n",
        "\n",
        "for line in lines:\n",
        "    if \"#ifdef\" in line or \"#ifndef\" in line or \"#else\" in line or \"#endif\" in line:\n",
        "        # Comment out preprocessor lines\n",
        "        patched_lines.append(f\"! {line}\")\n",
        "        continue\n",
        "    patched_lines.append(line)\n",
        "\n",
        "with open(range_utils_path, \"w\") as f:\n",
        "    f.writelines(patched_lines)\n",
        "\n",
        "print(\"✅ Cell 27: Patched RangeUtils.f90 to bypass preprocessor directives.\")"
      ],
      "metadata": {
        "id": "4MsaTPVYFRjp",
        "outputId": "b0a52ac0-d3e9-4b78-e159-717fc02ebb29",
        "colab": {
          "base_uri": "https://localhost:8080/"
        }
      },
      "execution_count": 52,
      "outputs": [
        {
          "output_type": "stream",
          "name": "stdout",
          "text": [
            "✅ Cell 27: Patched RangeUtils.f90 to bypass preprocessor directives.\n"
          ]
        }
      ]
    },
    {
      "cell_type": "code",
      "source": [
        "# 🔧 Cell 29: Patch invalid impure elemental subroutine in RangeUtils.f90\n",
        "\n",
        "path = \"/content/CAMB/forutils/RangeUtils.f90\"\n",
        "\n",
        "with open(path, \"r\") as f:\n",
        "    lines = f.readlines()\n",
        "\n",
        "patched = []\n",
        "for line in lines:\n",
        "    if \"impure elemental subroutine TRanges_Free\" in line:\n",
        "        patched.append(\"subroutine TRanges_Free(this)  ! 🔧 patched to remove impure elemental\\n\")\n",
        "    elif \"#else\" in line or \"#endif\" in line or \"#ifdef\" in line:\n",
        "        continue  # Remove all illegal preprocessor directives\n",
        "    else:\n",
        "        patched.append(line)\n",
        "\n",
        "with open(path, \"w\") as f:\n",
        "    f.writelines(patched)\n",
        "\n",
        "print(\"✅ Cell 29: Patched RangeUtils.f90 to remove impure elemental and preprocessor directives.\")"
      ],
      "metadata": {
        "id": "oUM_eLwUFdlg",
        "outputId": "fa72f408-4fe1-4c46-889e-4a4940ef3b5f",
        "colab": {
          "base_uri": "https://localhost:8080/"
        }
      },
      "execution_count": 55,
      "outputs": [
        {
          "output_type": "stream",
          "name": "stdout",
          "text": [
            "✅ Cell 29: Patched RangeUtils.f90 to remove impure elemental and preprocessor directives.\n"
          ]
        }
      ]
    },
    {
      "cell_type": "code",
      "source": [
        "# ✅ Cell 31: Final patch for RangeUtils.f90\n",
        "\n",
        "rangeutils_path = \"/content/CAMB/forutils/RangeUtils.f90\"\n",
        "\n",
        "with open(rangeutils_path, \"r\") as f:\n",
        "    lines = f.readlines()\n",
        "\n",
        "patched_lines = []\n",
        "skip = False\n",
        "for line in lines:\n",
        "    if \"#ifdef __GFORTRAN__\" in line or \"#else\" in line or \"#endif\" in line:\n",
        "        skip = True\n",
        "        continue\n",
        "    if skip and \"subroutine TRanges_Free\" in line:\n",
        "        patched_lines.append(line.lstrip())  # remove leading spaces\n",
        "        skip = False\n",
        "    else:\n",
        "        patched_lines.append(line)\n",
        "\n",
        "with open(rangeutils_path, \"w\") as f:\n",
        "    f.writelines(patched_lines)\n",
        "\n",
        "print(\"✅ Cell 31: Cleaned preprocessor logic in RangeUtils.f90\")"
      ],
      "metadata": {
        "id": "bGD4r-WfF8O9",
        "outputId": "602e4f7d-6ff8-4e61-b608-4ce36a0b9840",
        "colab": {
          "base_uri": "https://localhost:8080/"
        }
      },
      "execution_count": 58,
      "outputs": [
        {
          "output_type": "stream",
          "name": "stdout",
          "text": [
            "✅ Cell 31: Cleaned preprocessor logic in RangeUtils.f90\n"
          ]
        }
      ]
    },
    {
      "cell_type": "code",
      "source": [
        "# 🔧 Cell 33: Fix duplicate subroutine definition in RangeUtils.f90\n",
        "\n",
        "src_path = \"/content/CAMB/forutils/RangeUtils.f90\"\n",
        "\n",
        "with open(src_path, \"r\") as f:\n",
        "    lines = f.readlines()\n",
        "\n",
        "fixed_lines = []\n",
        "skip_next = False\n",
        "for i, line in enumerate(lines):\n",
        "    if \"subroutine TRanges_Free(this)\" in line and not skip_next:\n",
        "        fixed_lines.append(\"  subroutine TRanges_Free(this)\\n\")\n",
        "        skip_next = True  # Skip next identical definition\n",
        "    elif \"subroutine TRanges_Free(this)\" in line and skip_next:\n",
        "        continue  # Skip duplicate\n",
        "    else:\n",
        "        fixed_lines.append(line)\n",
        "\n",
        "with open(src_path, \"w\") as f:\n",
        "    f.writelines(fixed_lines)\n",
        "\n",
        "print(\"✅ Cell 33: Duplicate subroutine definition removed from RangeUtils.f90\")"
      ],
      "metadata": {
        "id": "QGITN0ZZGP2B",
        "outputId": "19879589-1621-4444-b790-565bbc38c6ad",
        "colab": {
          "base_uri": "https://localhost:8080/"
        }
      },
      "execution_count": 61,
      "outputs": [
        {
          "output_type": "stream",
          "name": "stdout",
          "text": [
            "✅ Cell 33: Duplicate subroutine definition removed from RangeUtils.f90\n"
          ]
        }
      ]
    },
    {
      "cell_type": "code",
      "source": [
        "# 🔧 Cell 34: Compile RangeUtils.f90 after duplicate fix\n",
        "import subprocess\n",
        "\n",
        "try:\n",
        "    subprocess.run(\n",
        "        [\"gfortran\", \"-I\", \"/content/CAMB/fortran\", \"-c\", \"/content/CAMB/forutils/RangeUtils.f90\"],\n",
        "        check=True\n",
        "    )\n",
        "    print(\"✅ Cell 34: Successfully compiled RangeUtils.f90\")\n",
        "except subprocess.CalledProcessError as e:\n",
        "    print(\"❌ Cell 34: Compilation failed.\")\n",
        "    print(e)"
      ],
      "metadata": {
        "id": "BHMEPOn4GadU",
        "outputId": "34ee3800-7513-496f-8766-df5a8b484fb1",
        "colab": {
          "base_uri": "https://localhost:8080/"
        }
      },
      "execution_count": 62,
      "outputs": [
        {
          "output_type": "stream",
          "name": "stdout",
          "text": [
            "✅ Cell 34: Successfully compiled RangeUtils.f90\n"
          ]
        }
      ]
    },
    {
      "cell_type": "code",
      "source": [
        "# ✅ Cell 39: Patch MathUtils.f90 to bypass MPI dependency\n",
        "\n",
        "file_path = \"/content/CAMB/fortran/MathUtils.f90\"\n",
        "\n",
        "with open(file_path, \"r\") as f:\n",
        "    lines = f.readlines()\n",
        "\n",
        "patched_lines = []\n",
        "for line in lines:\n",
        "    if \"use MpiUtils\" in line:\n",
        "        patched_lines.append(\"! \" + line.strip() + \"  ! 🔧 MPI disabled\\n\")\n",
        "    else:\n",
        "        patched_lines.append(line)\n",
        "\n",
        "with open(file_path, \"w\") as f:\n",
        "    f.writelines(patched_lines)\n",
        "\n",
        "print(\"✅ Cell 39: Patched MathUtils.f90 to bypass MPI dependency.\")"
      ],
      "metadata": {
        "id": "EtJJWzvgHnhl",
        "outputId": "c0943b9c-53dc-492b-e9ac-8780e305deb4",
        "colab": {
          "base_uri": "https://localhost:8080/"
        }
      },
      "execution_count": 70,
      "outputs": [
        {
          "output_type": "stream",
          "name": "stdout",
          "text": [
            "✅ Cell 39: Patched MathUtils.f90 to bypass MPI dependency.\n"
          ]
        }
      ]
    },
    {
      "cell_type": "code",
      "source": [
        "# 🔧 Cell 40: Compile MathUtils.f90\n",
        "\n",
        "import subprocess\n",
        "\n",
        "src_path = \"/content/CAMB/fortran/MathUtils.f90\"\n",
        "\n",
        "try:\n",
        "    subprocess.run([\"gfortran\", \"-I\", \"/content/CAMB/fortran\", \"-c\", src_path], check=True)\n",
        "    print(\"✅ Cell 40: Successfully compiled MathUtils.f90\")\n",
        "except subprocess.CalledProcessError as e:\n",
        "    print(\"❌ Cell 40: Compilation failed.\")\n",
        "    print(e)"
      ],
      "metadata": {
        "id": "MZlYP2MiHwxe",
        "outputId": "7843d6c2-b9c5-4c8d-ecd4-bc0d5a43b626",
        "colab": {
          "base_uri": "https://localhost:8080/"
        }
      },
      "execution_count": 71,
      "outputs": [
        {
          "output_type": "stream",
          "name": "stdout",
          "text": [
            "✅ Cell 40: Successfully compiled MathUtils.f90\n"
          ]
        }
      ]
    },
    {
      "cell_type": "code",
      "source": [
        "# 🔧 Cell 44: Patch classes.f90 to bypass MPI usage\n",
        "\n",
        "file_path = \"/content/CAMB/fortran/classes.f90\"\n",
        "\n",
        "with open(file_path, \"r\") as f:\n",
        "    lines = f.readlines()\n",
        "\n",
        "patched_lines = []\n",
        "for line in lines:\n",
        "    if \"use MpiUtils\" in line:\n",
        "        patched_lines.append(\"! use MpiUtils  ! 🔧 MPI disabled in Colab\\n\")\n",
        "    else:\n",
        "        patched_lines.append(line)\n",
        "\n",
        "with open(file_path, \"w\") as f:\n",
        "    f.writelines(patched_lines)\n",
        "\n",
        "print(\"✅ Cell 44: Patched classes.f90 to bypass MPI dependency.\")"
      ],
      "metadata": {
        "id": "s7gfDsWMIpQr",
        "outputId": "4f8226a3-0559-4b37-ef1a-6467b08fffe3",
        "colab": {
          "base_uri": "https://localhost:8080/"
        }
      },
      "execution_count": 78,
      "outputs": [
        {
          "output_type": "stream",
          "name": "stdout",
          "text": [
            "✅ Cell 44: Patched classes.f90 to bypass MPI dependency.\n"
          ]
        }
      ]
    },
    {
      "cell_type": "code",
      "source": [
        "# 🩹 Cell 46: Patch classes.f90 to bypass MPI dependency\n",
        "\n",
        "classes_path = \"/content/CAMB/fortran/classes.f90\"\n",
        "\n",
        "with open(classes_path, \"r\") as f:\n",
        "    lines = f.readlines()\n",
        "\n",
        "patched_lines = []\n",
        "for line in lines:\n",
        "    if \"use MpiUtils\" in line:\n",
        "        patched_lines.append(\"! use MpiUtils  ! 🔧 MPI disabled in Colab\\n\")\n",
        "    else:\n",
        "        patched_lines.append(line)\n",
        "\n",
        "with open(classes_path, \"w\") as f:\n",
        "    f.writelines(patched_lines)\n",
        "\n",
        "print(\"✅ Cell 46: Patched classes.f90 to bypass MPI dependency.\")"
      ],
      "metadata": {
        "id": "MW3U1JTYI2h_",
        "outputId": "30fccc6e-729b-4b37-c8e3-cb6b38d0301a",
        "colab": {
          "base_uri": "https://localhost:8080/"
        }
      },
      "execution_count": 80,
      "outputs": [
        {
          "output_type": "stream",
          "name": "stdout",
          "text": [
            "✅ Cell 46: Patched classes.f90 to bypass MPI dependency.\n"
          ]
        }
      ]
    },
    {
      "cell_type": "code",
      "source": [
        "# ✅ Cell 51: Patch Interpolation.f90 to bypass MPI dependency\n",
        "\n",
        "src_path = \"/content/CAMB/forutils/Interpolation.f90\"\n",
        "\n",
        "with open(src_path, \"r\") as f:\n",
        "    lines = f.readlines()\n",
        "\n",
        "patched_lines = []\n",
        "for line in lines:\n",
        "    if \"use MpiUtils\" in line:\n",
        "        patched_lines.append(\"! use MpiUtils  ! 🔧 MPI disabled in Colab\\n\")\n",
        "    else:\n",
        "        patched_lines.append(line)\n",
        "\n",
        "with open(src_path, \"w\") as f:\n",
        "    f.writelines(patched_lines)\n",
        "\n",
        "print(\"✅ Patched Interpolation.f90 to bypass MPI.\")"
      ],
      "metadata": {
        "id": "pm9bC9LmKNzG",
        "outputId": "54200e57-9355-43d8-871c-7a9e739c39f6",
        "colab": {
          "base_uri": "https://localhost:8080/"
        }
      },
      "execution_count": 91,
      "outputs": [
        {
          "output_type": "stream",
          "name": "stdout",
          "text": [
            "✅ Patched Interpolation.f90 to bypass MPI.\n"
          ]
        }
      ]
    },
    {
      "cell_type": "code",
      "source": [
        "# 🩹 Cell 53: Patch Interpolation.f90 to bypass MPI dependency\n",
        "\n",
        "interp_path = \"/content/CAMB/forutils/Interpolation.f90\"\n",
        "\n",
        "with open(interp_path, \"r\") as f:\n",
        "    lines = f.readlines()\n",
        "\n",
        "patched_lines = []\n",
        "for line in lines:\n",
        "    if \"use MpiUtils\" in line:\n",
        "        patched_lines.append(\"! use MpiUtils  ! 🔧 MPI disabled in Colab\\n\")\n",
        "    else:\n",
        "        patched_lines.append(line)\n",
        "\n",
        "with open(interp_path, \"w\") as f:\n",
        "    f.writelines(patched_lines)\n",
        "\n",
        "print(\"✅ Cell 53: Patched Interpolation.f90 to bypass MPI dependency.\")"
      ],
      "metadata": {
        "id": "jwEJSkuPKeRh",
        "outputId": "4c9f431a-75db-4db0-afcd-9b39e297800c",
        "colab": {
          "base_uri": "https://localhost:8080/"
        }
      },
      "execution_count": 93,
      "outputs": [
        {
          "output_type": "stream",
          "name": "stdout",
          "text": [
            "✅ Cell 53: Patched Interpolation.f90 to bypass MPI dependency.\n"
          ]
        }
      ]
    },
    {
      "cell_type": "code",
      "source": [
        "# 🔧 Cell 55: Patch Interpolation.f90 to disable MpiUtils usage\n",
        "\n",
        "interpolation_path = \"/content/CAMB/forutils/Interpolation.f90\"\n",
        "\n",
        "with open(interpolation_path, \"r\") as f:\n",
        "    lines = f.readlines()\n",
        "\n",
        "patched_lines = []\n",
        "for line in lines:\n",
        "    if \"use MpiUtils\" in line:\n",
        "        patched_lines.append(\"! \" + line)  # Comment out MPI\n",
        "    else:\n",
        "        patched_lines.append(line)\n",
        "\n",
        "with open(interpolation_path, \"w\") as f:\n",
        "    f.writelines(patched_lines)\n",
        "\n",
        "print(\"✅ Cell 55: Patched Interpolation.f90 to bypass MPI dependency.\")"
      ],
      "metadata": {
        "id": "Hw9ya8uNKuk6",
        "outputId": "5604040c-b55d-4555-ea35-46b1f1a1696b",
        "colab": {
          "base_uri": "https://localhost:8080/"
        }
      },
      "execution_count": 95,
      "outputs": [
        {
          "output_type": "stream",
          "name": "stdout",
          "text": [
            "✅ Cell 55: Patched Interpolation.f90 to bypass MPI dependency.\n"
          ]
        }
      ]
    },
    {
      "cell_type": "code",
      "source": [
        "# 🔧 Cell 57: Patch and compile Interpolation.f90 to bypass MPI and fix preprocessor usage\n",
        "\n",
        "import pathlib\n",
        "import subprocess\n",
        "\n",
        "src_path = pathlib.Path(\"/content/CAMB/forutils/Interpolation.f90\")\n",
        "\n",
        "# Read and patch the first lines of Interpolation.f90\n",
        "patched_lines = []\n",
        "with src_path.open(\"r\") as f:\n",
        "    lines = f.readlines()\n",
        "    for line in lines:\n",
        "        if \"use MpiUtils\" in line:\n",
        "            patched_lines.append(\"!   use MpiUtils         ! 🔧 Patched: disable MPI dependency\\n\")\n",
        "        elif \"#ifdef SINGLE\" in line:\n",
        "            patched_lines.append(\"    integer, parameter :: dp=kind(1.0)\\n\")\n",
        "        elif \"#else\" in line or \"#endif\" in line:\n",
        "            continue  # Skip illegal preprocessor lines\n",
        "        else:\n",
        "            patched_lines.append(line)\n",
        "        if \"implicit none\" in line:\n",
        "            break  # Done patching once we've hit the main body\n",
        "\n",
        "# Add the remaining lines unmodified\n",
        "remaining = lines[len(patched_lines):]\n",
        "patched_lines.extend(remaining)\n",
        "\n",
        "# Write the patched file back\n",
        "with src_path.open(\"w\") as f:\n",
        "    f.writelines(patched_lines)\n",
        "\n",
        "# Now compile\n",
        "try:\n",
        "    subprocess.run(\n",
        "        [\"gfortran\", \"-I\", \"/content/CAMB/fortran\", \"-c\", str(src_path)],\n",
        "        check=True\n",
        "    )\n",
        "    print(\"✅ Cell 57: Successfully patched and compiled Interpolation.f90\")\n",
        "except subprocess.CalledProcessError as e:\n",
        "    print(\"❌ Cell 57: Compilation failed.\")\n",
        "    print(e)"
      ],
      "metadata": {
        "id": "j4z5iu3nK7IA",
        "outputId": "e27c6e31-6ec8-437f-d42f-a7f4c308e4ce",
        "colab": {
          "base_uri": "https://localhost:8080/"
        }
      },
      "execution_count": 97,
      "outputs": [
        {
          "output_type": "stream",
          "name": "stdout",
          "text": [
            "❌ Cell 57: Compilation failed.\n",
            "Command '['gfortran', '-I', '/content/CAMB/fortran', '-c', '/content/CAMB/forutils/Interpolation.f90']' returned non-zero exit status 1.\n"
          ]
        }
      ]
    },
    {
      "cell_type": "code",
      "source": [],
      "metadata": {
        "id": "qyvVEd_KLdSj"
      },
      "execution_count": null,
      "outputs": []
    }
  ]
}