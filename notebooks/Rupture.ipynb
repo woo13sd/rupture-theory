{
  "nbformat": 4,
  "nbformat_minor": 0,
  "metadata": {
    "colab": {
      "provenance": [],
      "authorship_tag": "ABX9TyOOlISFGMWO2/gk2F/2cO6v",
      "include_colab_link": true
    },
    "kernelspec": {
      "name": "python3",
      "display_name": "Python 3"
    },
    "language_info": {
      "name": "python"
    }
  },
  "cells": [
    {
      "cell_type": "markdown",
      "metadata": {
        "id": "view-in-github",
        "colab_type": "text"
      },
      "source": [
        "<a href=\"https://colab.research.google.com/github/woo13sd/rupture-theory/blob/main/notebooks/Rupture.ipynb\" target=\"_parent\"><img src=\"https://colab.research.google.com/assets/colab-badge.svg\" alt=\"Open In Colab\"/></a>"
      ]
    },
    {
      "cell_type": "code",
      "source": [
        "# ⚠️ WARNING: This deletes all old data + images\n",
        "\n",
        "!cd /content/rupture-theory && \\\n",
        " rm -rf data/*.dat && \\\n",
        " rm -rf images/*.png && \\\n",
        " mkdir -p data images && \\\n",
        " echo \"✅ Clean slate: all old data and images removed.\""
      ],
      "metadata": {
        "id": "zTIEZZWDYxDQ",
        "outputId": "8d57177e-c90c-42b1-cd7b-ff60c0678622",
        "colab": {
          "base_uri": "https://localhost:8080/"
        }
      },
      "execution_count": 2,
      "outputs": [
        {
          "output_type": "stream",
          "name": "stdout",
          "text": [
            "✅ Clean slate: all old data and images removed.\n"
          ]
        }
      ]
    },
    {
      "cell_type": "code",
      "source": [
        "# Replace with your actual filename if different\n",
        "!cp /content/Rupture.ipynb /content/rupture-theory/notebooks/Rupture.ipynb"
      ],
      "metadata": {
        "id": "btTl73R5Z61z",
        "outputId": "c792b3ac-dc88-4c46-9c10-39eb6018269b",
        "colab": {
          "base_uri": "https://localhost:8080/"
        }
      },
      "execution_count": 6,
      "outputs": [
        {
          "output_type": "stream",
          "name": "stdout",
          "text": [
            "cp: cannot stat '/content/Rupture.ipynb': No such file or directory\n"
          ]
        }
      ]
    },
    {
      "cell_type": "code",
      "source": [],
      "metadata": {
        "id": "HYM4kWzXafhF"
      },
      "execution_count": null,
      "outputs": []
    }
  ]
}