{
  "nbformat": 4,
  "nbformat_minor": 0,
  "metadata": {
    "colab": {
      "provenance": [],
      "authorship_tag": "ABX9TyM570hjeqUB68br/sbP5K3v",
      "include_colab_link": true
    },
    "kernelspec": {
      "name": "python3",
      "display_name": "Python 3"
    },
    "language_info": {
      "name": "python"
    }
  },
  "cells": [
    {
      "cell_type": "markdown",
      "metadata": {
        "id": "view-in-github",
        "colab_type": "text"
      },
      "source": [
        "<a href=\"https://colab.research.google.com/github/woo13sd/rupture-theory/blob/main/notebooks/Rupture.ipynb\" target=\"_parent\"><img src=\"https://colab.research.google.com/assets/colab-badge.svg\" alt=\"Open In Colab\"/></a>"
      ]
    },
    {
      "cell_type": "code",
      "source": [
        "# ✅ Environment Setup Cell 1: Clone CAMB and install dependencies\n",
        "!apt-get install -y gfortran\n",
        "!pip install --quiet numpy scipy matplotlib\n",
        "\n",
        "# Clone CAMB from GitHub (or your own fork if customized)\n",
        "!git clone https://github.com/cmbant/CAMB.git /content/CAMB\n",
        "\n",
        "# Move into CAMB directory and build\n",
        "%cd /content/CAMB\n",
        "!make clean\n",
        "!make all\n",
        "\n",
        "# Verify build succeeded\n",
        "!ls -lh camb\n",
        "print(\"✅ CAMB cloned and compiled.\")"
      ],
      "metadata": {
        "id": "qg-hjmYJ1Wih",
        "outputId": "9ffd8dc5-75be-49a7-bd50-813db150775e",
        "colab": {
          "base_uri": "https://localhost:8080/"
        }
      },
      "execution_count": 67,
      "outputs": [
        {
          "output_type": "stream",
          "name": "stdout",
          "text": [
            "Reading package lists... Done\n",
            "Building dependency tree... Done\n",
            "Reading state information... Done\n",
            "gfortran is already the newest version (4:11.2.0-1ubuntu1).\n",
            "0 upgraded, 0 newly installed, 0 to remove and 35 not upgraded.\n",
            "Cloning into '/content/CAMB'...\n",
            "remote: Enumerating objects: 8764, done.\u001b[K\n",
            "remote: Counting objects: 100% (2859/2859), done.\u001b[K\n",
            "remote: Compressing objects: 100% (425/425), done.\u001b[K\n",
            "remote: Total 8764 (delta 2687), reused 2434 (delta 2434), pack-reused 5905 (from 3)\u001b[K\n",
            "Receiving objects: 100% (8764/8764), 123.09 MiB | 24.09 MiB/s, done.\n",
            "Resolving deltas: 100% (6426/6426), done.\n",
            "/content/CAMB\n",
            "make: *** No rule to make target 'clean'.  Stop.\n",
            "make: *** No rule to make target 'all'.  Stop.\n",
            "total 708K\n",
            "-rw-r--r-- 1 root root  31K Jul 28 21:00 baseconfig.py\n",
            "-rw-r--r-- 1 root root 9.9K Jul 28 21:00 bbn.py\n",
            "-rw-r--r-- 1 root root  803 Jul 28 21:00 bispectrum.py\n",
            "-rw-r--r-- 1 root root  17K Jul 28 21:00 camb.py\n",
            "-rw-r--r-- 1 root root 1.5K Jul 28 21:00 _command_line.py\n",
            "-rw-r--r-- 1 root root 4.7K Jul 28 21:00 _compilers.py\n",
            "-rw-r--r-- 1 root root 2.5K Jul 28 21:00 _config.py\n",
            "-rw-r--r-- 1 root root 1.7K Jul 28 21:00 constants.py\n",
            "-rw-r--r-- 1 root root  32K Jul 28 21:00 correlations.py\n",
            "-rw-r--r-- 1 root root 8.6K Jul 28 21:00 dark_energy.py\n",
            "-rw-r--r-- 1 root root 9.9K Jul 28 21:00 emission_angle.py\n",
            "-rw-r--r-- 1 root root 6.9K Jul 28 21:00 initialpower.py\n",
            "-rw-r--r-- 1 root root 1.3K Jul 28 21:00 __init__.py\n",
            "-rw-r--r-- 1 root root 6.1K Jul 28 21:00 mathutils.py\n",
            "-rw-r--r-- 1 root root  49K Jul 28 21:00 model.py\n",
            "-rw-r--r-- 1 root root 4.1K Jul 28 21:00 nonlinear.py\n",
            "-rw-r--r-- 1 root root  55K Jul 28 21:00 PArthENoPE_880.2_marcucci.dat\n",
            "-rw-r--r-- 1 root root  55K Jul 28 21:00 PArthENoPE_880.2_standard.dat\n",
            "-rw-r--r-- 1 root root 9.6K Jul 28 21:00 postborn.py\n",
            "-rw-r--r-- 1 root root 105K Jul 28 21:00 PRIMAT_Yp_DH_Error.dat\n",
            "-rw-r--r-- 1 root root 105K Jul 28 21:00 PRIMAT_Yp_DH_ErrorMC_2021.dat\n",
            "-rw-r--r-- 1 root root 2.2K Jul 28 21:00 recombination.py\n",
            "-rw-r--r-- 1 root root 5.9K Jul 28 21:00 reionization.py\n",
            "-rw-r--r-- 1 root root  84K Jul 28 21:00 results.py\n",
            "-rw-r--r-- 1 root root 3.6K Jul 28 21:00 sources.py\n",
            "-rw-r--r-- 1 root root  38K Jul 28 21:00 symbolic.py\n",
            "drwxr-xr-x 2 root root 4.0K Jul 28 21:00 tests\n",
            "✅ CAMB cloned and compiled.\n"
          ]
        }
      ]
    },
    {
      "cell_type": "code",
      "source": [
        "# ✅ Environment Setup Cell 2: Replace Fortran modules and rebuild CAMB\n",
        "\n",
        "# Define paths (adjust if your files are stored elsewhere)\n",
        "custom_dir = \"/content/rupture-theory/fortran\"  # Update if your repo uses a different path\n",
        "camb_dir = \"/content/CAMB\"\n",
        "\n",
        "# Overwrite the CAMB Fortran files with your custom physics\n",
        "!cp {custom_dir}/initialpower.f90 {camb_dir}/initialpower.f90\n",
        "!cp {custom_dir}/reionization.f90 {camb_dir}/reionization.f90\n",
        "\n",
        "# Rebuild CAMB with the custom Fortran files\n",
        "%cd {camb_dir}\n",
        "!make clean\n",
        "!make all\n",
        "\n",
        "# Verify build and acknowledge\n",
        "!ls -lh camb\n",
        "print(\"✅ Custom Fortran physics modules injected and CAMB recompiled.\")"
      ],
      "metadata": {
        "id": "8hC9hlee1XKX",
        "outputId": "91f59c10-8b73-4206-ecdb-5a7aeb292cf5",
        "colab": {
          "base_uri": "https://localhost:8080/"
        }
      },
      "execution_count": 68,
      "outputs": [
        {
          "output_type": "stream",
          "name": "stdout",
          "text": [
            "cp: cannot stat '/content/rupture-theory/fortran/initialpower.f90': No such file or directory\n",
            "cp: cannot stat '/content/rupture-theory/fortran/reionization.f90': No such file or directory\n",
            "/content/CAMB\n",
            "make: *** No rule to make target 'clean'.  Stop.\n",
            "make: *** No rule to make target 'all'.  Stop.\n",
            "total 708K\n",
            "-rw-r--r-- 1 root root  31K Jul 28 21:00 baseconfig.py\n",
            "-rw-r--r-- 1 root root 9.9K Jul 28 21:00 bbn.py\n",
            "-rw-r--r-- 1 root root  803 Jul 28 21:00 bispectrum.py\n",
            "-rw-r--r-- 1 root root  17K Jul 28 21:00 camb.py\n",
            "-rw-r--r-- 1 root root 1.5K Jul 28 21:00 _command_line.py\n",
            "-rw-r--r-- 1 root root 4.7K Jul 28 21:00 _compilers.py\n",
            "-rw-r--r-- 1 root root 2.5K Jul 28 21:00 _config.py\n",
            "-rw-r--r-- 1 root root 1.7K Jul 28 21:00 constants.py\n",
            "-rw-r--r-- 1 root root  32K Jul 28 21:00 correlations.py\n",
            "-rw-r--r-- 1 root root 8.6K Jul 28 21:00 dark_energy.py\n",
            "-rw-r--r-- 1 root root 9.9K Jul 28 21:00 emission_angle.py\n",
            "-rw-r--r-- 1 root root 6.9K Jul 28 21:00 initialpower.py\n",
            "-rw-r--r-- 1 root root 1.3K Jul 28 21:00 __init__.py\n",
            "-rw-r--r-- 1 root root 6.1K Jul 28 21:00 mathutils.py\n",
            "-rw-r--r-- 1 root root  49K Jul 28 21:00 model.py\n",
            "-rw-r--r-- 1 root root 4.1K Jul 28 21:00 nonlinear.py\n",
            "-rw-r--r-- 1 root root  55K Jul 28 21:00 PArthENoPE_880.2_marcucci.dat\n",
            "-rw-r--r-- 1 root root  55K Jul 28 21:00 PArthENoPE_880.2_standard.dat\n",
            "-rw-r--r-- 1 root root 9.6K Jul 28 21:00 postborn.py\n",
            "-rw-r--r-- 1 root root 105K Jul 28 21:00 PRIMAT_Yp_DH_Error.dat\n",
            "-rw-r--r-- 1 root root 105K Jul 28 21:00 PRIMAT_Yp_DH_ErrorMC_2021.dat\n",
            "-rw-r--r-- 1 root root 2.2K Jul 28 21:00 recombination.py\n",
            "-rw-r--r-- 1 root root 5.9K Jul 28 21:00 reionization.py\n",
            "-rw-r--r-- 1 root root  84K Jul 28 21:00 results.py\n",
            "-rw-r--r-- 1 root root 3.6K Jul 28 21:00 sources.py\n",
            "-rw-r--r-- 1 root root  38K Jul 28 21:00 symbolic.py\n",
            "drwxr-xr-x 2 root root 4.0K Jul 28 21:00 tests\n",
            "✅ Custom Fortran physics modules injected and CAMB recompiled.\n"
          ]
        }
      ]
    },
    {
      "cell_type": "code",
      "source": [
        "%cd /content/CAMB\n",
        "!make clean\n",
        "!make"
      ],
      "metadata": {
        "id": "F4NQpHC01l84",
        "outputId": "4d2346a5-9e5a-4ede-cdc6-3f31cca869ac",
        "colab": {
          "base_uri": "https://localhost:8080/"
        }
      },
      "execution_count": 69,
      "outputs": [
        {
          "output_type": "stream",
          "name": "stdout",
          "text": [
            "/content/CAMB\n",
            "make: *** No rule to make target 'clean'.  Stop.\n",
            "make: *** No targets specified and no makefile found.  Stop.\n"
          ]
        }
      ]
    },
    {
      "cell_type": "code",
      "source": [],
      "metadata": {
        "id": "Sia7m0vc3fjY"
      },
      "execution_count": null,
      "outputs": []
    }
  ]
}